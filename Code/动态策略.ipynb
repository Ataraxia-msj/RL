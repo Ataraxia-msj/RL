{
 "cells": [
  {
   "cell_type": "code",
   "execution_count": 11,
   "metadata": {},
   "outputs": [],
   "source": [
    "# 获取格子状态\n",
    "\n",
    "def get_state(row,col):\n",
    "    if row != 3:\n",
    "        return 'ground'\n",
    "    if row == 3 and col == 0:\n",
    "        return 'ground'\n",
    "    if row == 3 and col == 11:\n",
    "        return 'terminal'\n",
    "    return 'trap'\n"
   ]
  },
  {
   "cell_type": "code",
   "execution_count": 12,
   "metadata": {},
   "outputs": [],
   "source": [
    "def move(row,col,action):\n",
    "\t# 如果已经在悬崖，或者重点，反馈就是0\n",
    "\tif get_state(row,col) in ['trap','terminal']:\n",
    "\t\treturn row,col,0\n",
    "\t# 👆\n",
    "\tif action == 0:\n",
    "\t\trow -= 1\n",
    "\t# 👇\n",
    "\tif action == 1:\n",
    "\t\trow += 1\n",
    "\t# 👈\n",
    "\tif action == 2:\n",
    "\t\tcol -= 1\n",
    "\t# 👉\n",
    "\tif action == 3:\n",
    "\t\tcol += 1\n",
    "\t#避免走到地图外面\n",
    "\trow = max(0,row)\n",
    "\trow = min(3,row)\n",
    "\tcol = max(0,col)\n",
    "\tcol = min(11,col)\n",
    "\t#如果是悬崖，奖励就是-100，否则都是-1\n",
    "\treward = -1\n",
    "\tif get_state(row,col) == 'trap':\n",
    "\t\treward = -100\n",
    "\treturn row,col,reward"
   ]
  },
  {
   "cell_type": "code",
   "execution_count": 13,
   "metadata": {},
   "outputs": [],
   "source": [
    "import numpy as np\n",
    "#初始化Value和pi\n",
    "values = np.zeros([4,12])\n",
    "pi = np.ones([4,12,4])*0.25"
   ]
  },
  {
   "cell_type": "code",
   "execution_count": 14,
   "metadata": {},
   "outputs": [],
   "source": [
    "# 动作价值函数\n",
    "# 计算一个状态下执行动作的分数\n",
    "def get_qsa(row,col,action):\n",
    "    # 计算下一个状态的价值\n",
    "    next_row , next_col,reward = move(row,col,action)\n",
    "    # 计算下一个状态的分数，0.9是折扣因子\n",
    "    value = values[next_row,next_col] * 0.9\n",
    "    # 如果是悬崖或者陷阱，下一个状态分数是0\n",
    "    if get_state(next_row,next_col) in ['trap','terminal']:\n",
    "        value = 0\n",
    "    return value + reward\n"
   ]
  },
  {
   "cell_type": "markdown",
   "metadata": {},
   "source": [
    "## 策略评估\n",
    "\n",
    "评估每一个格子的价值"
   ]
  },
  {
   "cell_type": "code",
   "execution_count": 15,
   "metadata": {},
   "outputs": [],
   "source": [
    "def get_values():\n",
    "\n",
    "    # 初始化一个新的values,重新评估所有格子的分数\n",
    "\n",
    "    new_values = np.zeros([4,12])\n",
    "\n",
    "   # 遍历所有格子 \n",
    "    for row in range(4):\n",
    "        for col in range(12):\n",
    "            \n",
    "            # 计算当前格子4个动作分别的分数\n",
    "            action_value = np.zeros(4)\n",
    "\n",
    "            # 遍历动作\n",
    "            for action in range(4):\n",
    "                action_value[action] = get_qsa(row, col, action)\n",
    "            \n",
    "            # 计算当前格子的分数\n",
    "            action_value *= pi[row, col]\n",
    "\n",
    "            # 所有动作分数求和\n",
    "            new_values[row, col] = action_value.sum()\n",
    "\n",
    "    return new_values"
   ]
  },
  {
   "cell_type": "code",
   "execution_count": 16,
   "metadata": {},
   "outputs": [
    {
     "data": {
      "text/plain": [
       "array([[ -1.  ,  -1.  ,  -1.  ,  -1.  ,  -1.  ,  -1.  ,  -1.  ,  -1.  ,\n",
       "         -1.  ,  -1.  ,  -1.  ,  -1.  ],\n",
       "       [ -1.  ,  -1.  ,  -1.  ,  -1.  ,  -1.  ,  -1.  ,  -1.  ,  -1.  ,\n",
       "         -1.  ,  -1.  ,  -1.  ,  -1.  ],\n",
       "       [ -1.  , -25.75, -25.75, -25.75, -25.75, -25.75, -25.75, -25.75,\n",
       "        -25.75, -25.75, -25.75,  -1.  ],\n",
       "       [-25.75,   0.  ,   0.  ,   0.  ,   0.  ,   0.  ,   0.  ,   0.  ,\n",
       "          0.  ,   0.  ,   0.  ,   0.  ]])"
      ]
     },
     "execution_count": 16,
     "metadata": {},
     "output_type": "execute_result"
    }
   ],
   "source": [
    "get_values()"
   ]
  },
  {
   "cell_type": "markdown",
   "metadata": {},
   "source": [
    "## 策略提升\n",
    "\n",
    "根据每个格子的价值重新计算每个动作的概率"
   ]
  },
  {
   "cell_type": "code",
   "execution_count": 17,
   "metadata": {},
   "outputs": [],
   "source": [
    "def get_pi():\n",
    "    # 重新初始化每个格子下采用动作的概率，重新评估\n",
    "    new_pi = np.zeros([4,12,4])\n",
    "    # 遍历\n",
    "    for row in range(4):\n",
    "        for col in range(12):\n",
    "            \n",
    "            action_value = np.zeros(4)\n",
    "\n",
    "            for action in range(4):\n",
    "                action_value[action] = get_qsa(row, col, action)\n",
    "            \n",
    "            # 计算每个动作的概率，根据达到最大值均分\n",
    "            count = (action_value == action_value.max()).sum()\n",
    "\n",
    "            for action in range(4):\n",
    "                if action_value[action] == action_value.max():\n",
    "                    new_pi[row,col,action] = 1/count\n",
    "                else:\n",
    "                    new_pi[row,col,action] = 0\n",
    "\n",
    "    return new_pi"
   ]
  },
  {
   "cell_type": "code",
   "execution_count": 19,
   "metadata": {},
   "outputs": [],
   "source": [
    "for i in range(10):\n",
    "    for j in range(10):\n",
    "        values = get_values()\n",
    "    pi = get_pi()"
   ]
  },
  {
   "cell_type": "code",
   "execution_count": 20,
   "metadata": {},
   "outputs": [
    {
     "data": {
      "text/plain": [
       "(array([[-7.71232075, -7.45813417, -7.17570464, -6.86189404, -6.5132156 ,\n",
       "         -6.12579511, -5.6953279 , -5.217031  , -4.68559   , -4.0951    ,\n",
       "         -3.439     , -2.71      ],\n",
       "        [-7.45813417, -7.17570464, -6.86189404, -6.5132156 , -6.12579511,\n",
       "         -5.6953279 , -5.217031  , -4.68559   , -4.0951    , -3.439     ,\n",
       "         -2.71      , -1.9       ],\n",
       "        [-7.17570464, -6.86189404, -6.5132156 , -6.12579511, -5.6953279 ,\n",
       "         -5.217031  , -4.68559   , -4.0951    , -3.439     , -2.71      ,\n",
       "         -1.9       , -1.        ],\n",
       "        [-7.45813417,  0.        ,  0.        ,  0.        ,  0.        ,\n",
       "          0.        ,  0.        ,  0.        ,  0.        ,  0.        ,\n",
       "          0.        ,  0.        ]]),\n",
       " array([[[0.  , 0.5 , 0.  , 0.5 ],\n",
       "         [0.  , 0.5 , 0.  , 0.5 ],\n",
       "         [0.  , 0.5 , 0.  , 0.5 ],\n",
       "         [0.  , 0.5 , 0.  , 0.5 ],\n",
       "         [0.  , 0.5 , 0.  , 0.5 ],\n",
       "         [0.  , 0.5 , 0.  , 0.5 ],\n",
       "         [0.  , 0.5 , 0.  , 0.5 ],\n",
       "         [0.  , 0.5 , 0.  , 0.5 ],\n",
       "         [0.  , 0.5 , 0.  , 0.5 ],\n",
       "         [0.  , 0.5 , 0.  , 0.5 ],\n",
       "         [0.  , 0.5 , 0.  , 0.5 ],\n",
       "         [0.  , 1.  , 0.  , 0.  ]],\n",
       " \n",
       "        [[0.  , 0.5 , 0.  , 0.5 ],\n",
       "         [0.  , 0.5 , 0.  , 0.5 ],\n",
       "         [0.  , 0.5 , 0.  , 0.5 ],\n",
       "         [0.  , 0.5 , 0.  , 0.5 ],\n",
       "         [0.  , 0.5 , 0.  , 0.5 ],\n",
       "         [0.  , 0.5 , 0.  , 0.5 ],\n",
       "         [0.  , 0.5 , 0.  , 0.5 ],\n",
       "         [0.  , 0.5 , 0.  , 0.5 ],\n",
       "         [0.  , 0.5 , 0.  , 0.5 ],\n",
       "         [0.  , 0.5 , 0.  , 0.5 ],\n",
       "         [0.  , 0.5 , 0.  , 0.5 ],\n",
       "         [0.  , 1.  , 0.  , 0.  ]],\n",
       " \n",
       "        [[0.  , 0.  , 0.  , 1.  ],\n",
       "         [0.  , 0.  , 0.  , 1.  ],\n",
       "         [0.  , 0.  , 0.  , 1.  ],\n",
       "         [0.  , 0.  , 0.  , 1.  ],\n",
       "         [0.  , 0.  , 0.  , 1.  ],\n",
       "         [0.  , 0.  , 0.  , 1.  ],\n",
       "         [0.  , 0.  , 0.  , 1.  ],\n",
       "         [0.  , 0.  , 0.  , 1.  ],\n",
       "         [0.  , 0.  , 0.  , 1.  ],\n",
       "         [0.  , 0.  , 0.  , 1.  ],\n",
       "         [0.  , 0.  , 0.  , 1.  ],\n",
       "         [0.  , 1.  , 0.  , 0.  ]],\n",
       " \n",
       "        [[1.  , 0.  , 0.  , 0.  ],\n",
       "         [0.25, 0.25, 0.25, 0.25],\n",
       "         [0.25, 0.25, 0.25, 0.25],\n",
       "         [0.25, 0.25, 0.25, 0.25],\n",
       "         [0.25, 0.25, 0.25, 0.25],\n",
       "         [0.25, 0.25, 0.25, 0.25],\n",
       "         [0.25, 0.25, 0.25, 0.25],\n",
       "         [0.25, 0.25, 0.25, 0.25],\n",
       "         [0.25, 0.25, 0.25, 0.25],\n",
       "         [0.25, 0.25, 0.25, 0.25],\n",
       "         [0.25, 0.25, 0.25, 0.25],\n",
       "         [0.25, 0.25, 0.25, 0.25]]]))"
      ]
     },
     "execution_count": 20,
     "metadata": {},
     "output_type": "execute_result"
    }
   ],
   "source": [
    "values,pi"
   ]
  },
  {
   "cell_type": "code",
   "execution_count": 21,
   "metadata": {},
   "outputs": [
    {
     "name": "stdout",
     "output_type": "stream",
     "text": [
      "👇👇👇👇👇👇👇👇👇👇👇👇\n",
      "👇👇👇👇👇👇👇👇👇👇👇👇\n",
      "👉👉👉👉👉👉👉👉👉👉👉👇\n",
      "👆👆👆👆👆👆👆👆👆👆👆👆\n"
     ]
    }
   ],
   "source": [
    "for row in range(4):\n",
    "    line = \"\"\n",
    "    for col in range(12):\n",
    "        action = pi[row,col].argmax()\n",
    "        action = {0: \"👆\", 1: \"👇\", 2: \"👈\", 3: \"👉\"}[action]\n",
    "        line += action\n",
    "    print(line)"
   ]
  }
 ],
 "metadata": {
  "kernelspec": {
   "display_name": "Python 3",
   "language": "python",
   "name": "python3"
  },
  "language_info": {
   "codemirror_mode": {
    "name": "ipython",
    "version": 3
   },
   "file_extension": ".py",
   "mimetype": "text/x-python",
   "name": "python",
   "nbconvert_exporter": "python",
   "pygments_lexer": "ipython3",
   "version": "3.13.0"
  }
 },
 "nbformat": 4,
 "nbformat_minor": 2
}
