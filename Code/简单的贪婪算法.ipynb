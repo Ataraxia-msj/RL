{
 "cells": [
  {
   "cell_type": "code",
   "execution_count": 1,
   "metadata": {},
   "outputs": [],
   "source": [
    "import numpy as np\n",
    "probs = np.random.uniform(size = 10)\n",
    "rewards = [[1] for _ in range(10)]"
   ]
  },
  {
   "cell_type": "code",
   "execution_count": 2,
   "metadata": {},
   "outputs": [],
   "source": [
    "import random\n",
    "\n",
    "def choose_one():\n",
    "\n",
    "    if random.random()<0.01:\n",
    "        return random.randint(0,9)\n",
    "\n",
    "    rewards_mean = [np.mean(i) for i in rewards]\n",
    "\n",
    "    return np.argmax(rewards_mean)"
   ]
  },
  {
   "cell_type": "code",
   "execution_count": 3,
   "metadata": {},
   "outputs": [],
   "source": [
    "def try_and_play():\n",
    "    i = choose_one()\n",
    "    reward = 0\n",
    "    if random.random()<probs[i]:\n",
    "        reward = 1\n",
    "    rewards[i].append(reward)"
   ]
  },
  {
   "cell_type": "code",
   "execution_count": 4,
   "metadata": {},
   "outputs": [],
   "source": [
    "def get_result():\n",
    "    #?N?\n",
    "    for _ in range(5000):\n",
    "     try_and_play()\n",
    "    target = probs.max() * 5000\n",
    "    result = sum([sum(i) for i in rewards])\n",
    "    return target,result"
   ]
  },
  {
   "cell_type": "code",
   "execution_count": 5,
   "metadata": {},
   "outputs": [
    {
     "data": {
      "text/plain": [
       "(np.float64(4947.510025001921), 4907)"
      ]
     },
     "execution_count": 5,
     "metadata": {},
     "output_type": "execute_result"
    }
   ],
   "source": [
    "get_result()"
   ]
  }
 ],
 "metadata": {
  "kernelspec": {
   "display_name": "Python 3",
   "language": "python",
   "name": "python3"
  },
  "language_info": {
   "codemirror_mode": {
    "name": "ipython",
    "version": 3
   },
   "file_extension": ".py",
   "mimetype": "text/x-python",
   "name": "python",
   "nbconvert_exporter": "python",
   "pygments_lexer": "ipython3",
   "version": "3.13.0"
  }
 },
 "nbformat": 4,
 "nbformat_minor": 2
}
