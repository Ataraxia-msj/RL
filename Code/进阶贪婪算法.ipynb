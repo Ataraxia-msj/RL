{
 "cells": [
  {
   "cell_type": "code",
   "execution_count": 14,
   "metadata": {},
   "outputs": [],
   "source": [
    "import numpy as np\n",
    "import random\n",
    "probs = np.random.uniform(size = 10)\n",
    "rewards = [[1] for _ in range(10)]"
   ]
  },
  {
   "cell_type": "code",
   "execution_count": 15,
   "metadata": {},
   "outputs": [],
   "source": [
    "\n",
    "def choose_one():\n",
    "    # 求已经完了多少次\n",
    "    played_count = sum([len(i) for i in rewards])\n",
    "    #次数越多，探索欲望越低\n",
    "    if random.random()<1 / played_count:\n",
    "        return random.randint(0,9)\n",
    "    # 计算每个老虎机的平均奖励\n",
    "    rewards_mean = [np.mean(i) for i in rewards]\n",
    "    # 选择估值最大的拉杆\n",
    "    return np.argmax(rewards_mean)"
   ]
  },
  {
   "cell_type": "code",
   "execution_count": 16,
   "metadata": {},
   "outputs": [],
   "source": [
    "def try_and_play():\n",
    "    i = choose_one()\n",
    "    reward = 0\n",
    "    if random.random()<probs[i]:\n",
    "        reward = 1\n",
    "    rewards[i].append(reward)\n",
    "\n",
    "def get_result():\n",
    "    #?N?\n",
    "    for _ in range(5000):\n",
    "     try_and_play()\n",
    "    target = probs.max() * 5000\n",
    "    result = sum([sum(i) for i in rewards])\n",
    "    return target,result\n",
    "\n"
   ]
  },
  {
   "cell_type": "code",
   "execution_count": 17,
   "metadata": {},
   "outputs": [
    {
     "data": {
      "text/plain": [
       "(np.float64(4334.511583454617), 4316)"
      ]
     },
     "execution_count": 17,
     "metadata": {},
     "output_type": "execute_result"
    }
   ],
   "source": [
    "get_result()"
   ]
  }
 ],
 "metadata": {
  "kernelspec": {
   "display_name": "Python 3",
   "language": "python",
   "name": "python3"
  },
  "language_info": {
   "codemirror_mode": {
    "name": "ipython",
    "version": 3
   },
   "file_extension": ".py",
   "mimetype": "text/x-python",
   "name": "python",
   "nbconvert_exporter": "python",
   "pygments_lexer": "ipython3",
   "version": "3.13.0"
  }
 },
 "nbformat": 4,
 "nbformat_minor": 2
}
